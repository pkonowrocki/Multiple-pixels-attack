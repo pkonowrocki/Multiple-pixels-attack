{
  "nbformat": 4,
  "nbformat_minor": 0,
  "metadata": {
    "colab": {
      "name": "MultiplePixelsAttack.ipynb",
      "version": "0.3.2",
      "provenance": [],
      "collapsed_sections": [],
      "include_colab_link": true
    },
    "kernelspec": {
      "name": "python3",
      "display_name": "Python 3"
    },
    "accelerator": "GPU"
  },
  "cells": [
    {
      "cell_type": "markdown",
      "metadata": {
        "id": "view-in-github",
        "colab_type": "text"
      },
      "source": [
        "<a href=\"https://colab.research.google.com/github/pkonowrocki/Multiple-pixels-attack/blob/master/MultiplePixelsAttack.ipynb\" target=\"_parent\"><img src=\"https://colab.research.google.com/assets/colab-badge.svg\" alt=\"Open In Colab\"/></a>"
      ]
    },
    {
      "cell_type": "markdown",
      "metadata": {
        "id": "NBtXMj8zhlmd",
        "colab_type": "text"
      },
      "source": [
        "# Prerequisites"
      ]
    },
    {
      "cell_type": "code",
      "metadata": {
        "id": "Ji5cZulgxfcO",
        "colab_type": "code",
        "outputId": "357ea58f-403b-43d9-9166-36961b1b72d6",
        "colab": {
          "base_uri": "https://localhost:8080/",
          "height": 319
        }
      },
      "source": [
        "#install required files\n",
        "!pip3 install torch torchvision\n",
        "!pip3 install matplotlib\n",
        "\n",
        "file_id = '1Iz4CTYuTT-_eS1HrIU410VkeomP5dl0R'\n",
        "\n",
        "#authentication\n",
        "from google.colab import auth\n",
        "auth.authenticate_user()\n",
        "\n",
        "#build Gdrive service\n",
        "from googleapiclient.discovery import build\n",
        "drive_service = build('drive', 'v3')\n",
        "\n",
        "try:\n",
        "  import io\n",
        "  from googleapiclient.http import MediaIoBaseDownload\n",
        "\n",
        "  request = drive_service.files().get_media(fileId=file_id)\n",
        "  downloaded = io.BytesIO()\n",
        "  downloader = MediaIoBaseDownload(downloaded, request)\n",
        "  done = False\n",
        "  while done is False:\n",
        "    _, done = downloader.next_chunk()\n",
        "  downloaded.seek(0)\n",
        "  print('Downloaded file')\n",
        "  import pickle\n",
        "  dataset = pickle.load(downloaded)\n",
        "  assert type(dataset)!=\"<class 'dict'>\", \"Something went wrong with downloading file\"\n",
        "  print(\"Dataset ready\")\n",
        "  \n",
        "  from urllib.request import urlopen\n",
        "  idx2label = pickle.load(urlopen('https://gist.githubusercontent.com/yrevar/6135f1bd8dcf2e0cc683/raw/d133d61a09d7e5a3b36b8c111a8dd5c4b5d560ee/imagenet1000_clsid_to_human.pkl') )\n",
        "  print(\"Labels ready\")\n",
        "\n",
        "except:\n",
        "  print(\"Something wrong with file\")\n",
        "  print(\"Trying to download the file and upload it to a Gdrive\")\n",
        "  #downloading dataset\n",
        "  !curl http://ml.cs.tsinghua.edu.cn/~chenxi/dataset/val224_compressed.pkl --output val224_compressed.pkl\n",
        "    \n",
        "  #mounting Gdrive \n",
        "  from google.colab import drive\n",
        "  drive.mount('/content/gdrive')\n",
        "  #upload dataset to Gdrive\n",
        "  from googleapiclient.http import MediaFileUpload\n",
        "  file_metadata = {\n",
        "    'name': 'val224_compressed'\n",
        "  }\n",
        "  media = MediaFileUpload('val224_compressed.pkl',\n",
        "                        resumable=True)\n",
        "  created = drive_service.files().create(body=file_metadata,\n",
        "                                       media_body=media,\n",
        "                                       fields='id').execute()\n",
        "  print('File ID: {}'.format(created.get('id')))"
      ],
      "execution_count": 0,
      "outputs": [
        {
          "output_type": "stream",
          "text": [
            "Requirement already satisfied: torch in /usr/local/lib/python3.6/dist-packages (1.1.0)\n",
            "Requirement already satisfied: torchvision in /usr/local/lib/python3.6/dist-packages (0.3.0)\n",
            "Requirement already satisfied: numpy in /usr/local/lib/python3.6/dist-packages (from torch) (1.16.4)\n",
            "Requirement already satisfied: pillow>=4.1.1 in /usr/local/lib/python3.6/dist-packages (from torchvision) (4.3.0)\n",
            "Requirement already satisfied: six in /usr/local/lib/python3.6/dist-packages (from torchvision) (1.12.0)\n",
            "Requirement already satisfied: olefile in /usr/local/lib/python3.6/dist-packages (from pillow>=4.1.1->torchvision) (0.46)\n",
            "Requirement already satisfied: matplotlib in /usr/local/lib/python3.6/dist-packages (3.0.3)\n",
            "Requirement already satisfied: pyparsing!=2.0.4,!=2.1.2,!=2.1.6,>=2.0.1 in /usr/local/lib/python3.6/dist-packages (from matplotlib) (2.4.0)\n",
            "Requirement already satisfied: numpy>=1.10.0 in /usr/local/lib/python3.6/dist-packages (from matplotlib) (1.16.4)\n",
            "Requirement already satisfied: python-dateutil>=2.1 in /usr/local/lib/python3.6/dist-packages (from matplotlib) (2.5.3)\n",
            "Requirement already satisfied: kiwisolver>=1.0.1 in /usr/local/lib/python3.6/dist-packages (from matplotlib) (1.1.0)\n",
            "Requirement already satisfied: cycler>=0.10 in /usr/local/lib/python3.6/dist-packages (from matplotlib) (0.10.0)\n",
            "Requirement already satisfied: six>=1.5 in /usr/local/lib/python3.6/dist-packages (from python-dateutil>=2.1->matplotlib) (1.12.0)\n",
            "Requirement already satisfied: setuptools in /usr/local/lib/python3.6/dist-packages (from kiwisolver>=1.0.1->matplotlib) (41.0.1)\n",
            "Downloaded file\n",
            "Dataset ready\n",
            "Labels ready\n"
          ],
          "name": "stdout"
        }
      ]
    },
    {
      "cell_type": "code",
      "metadata": {
        "id": "yix5l7x0iDH9",
        "colab_type": "code",
        "outputId": "ae2b4dae-52ab-4dff-b24a-a0a13d266085",
        "colab": {
          "base_uri": "https://localhost:8080/",
          "height": 88
        }
      },
      "source": [
        "import torch\n",
        "device = torch.device(\"cuda:0\" if torch.cuda.is_available() else \"cpu\") \n",
        "print(device)\n",
        "\n",
        "import torchvision.models as models\n",
        "net = models.alexnet(pretrained=True).to(device)\n",
        "net.eval()\n",
        "\n",
        "print(\"Network ready\")"
      ],
      "execution_count": 0,
      "outputs": [
        {
          "output_type": "stream",
          "text": [
            "cuda:0\n"
          ],
          "name": "stdout"
        },
        {
          "output_type": "stream",
          "text": [
            "Downloading: \"https://download.pytorch.org/models/alexnet-owt-4df8aa71.pth\" to /root/.cache/torch/checkpoints/alexnet-owt-4df8aa71.pth\n",
            "100%|██████████| 244418560/244418560 [00:03<00:00, 70087779.05it/s] \n"
          ],
          "name": "stderr"
        },
        {
          "output_type": "stream",
          "text": [
            "Network ready\n"
          ],
          "name": "stdout"
        }
      ]
    },
    {
      "cell_type": "code",
      "metadata": {
        "id": "g2p9ZyY1ibVh",
        "colab_type": "code",
        "outputId": "63579989-48bf-4593-e777-1ab40062efc3",
        "colab": {
          "base_uri": "https://localhost:8080/",
          "height": 1352
        }
      },
      "source": [
        "#find positive examples\n",
        "import numpy as np\n",
        "import cv2\n",
        "import torch\n",
        "import torch.nn as nn\n",
        "\n",
        "def _str2img(str_b):\n",
        "    return cv2.imdecode(np.frombuffer(str_b, np.uint8), cv2.IMREAD_COLOR)\n",
        "\n",
        "\n",
        "mean = [0.485, 0.456, 0.406]\n",
        "std = [0.229, 0.224, 0.225]\n",
        "\n",
        "print(\"Got \"+str(len(dataset[\"target\"])) +\" samples\")\n",
        "m = nn.Softmax()\n",
        "positive = []\n",
        "\n",
        "for i in range(len(dataset[\"target\"])):\n",
        "  image = _str2img(dataset[\"data\"][i])\n",
        "  image = torch.from_numpy(image).view(1, 3, 224, 224).to(device=device, dtype=torch.float)\n",
        "  image.div_(255.)\n",
        "  image[:, 0, :, :].sub_(mean[0]).div_(std[0])\n",
        "  image[:, 1, :, :].sub_(mean[1]).div_(std[1])\n",
        "  image[:, 2, :, :].sub_(mean[2]).div_(std[2])\n",
        "  target = dataset[\"target\"][i]\n",
        "  output = net(image)\n",
        "  output = m(output)\n",
        "  values, indices = torch.max(output, 1)\n",
        "  if(target==indices.item()):\n",
        "    print(\"Image #\"+str(i)+\"\\tprobability: \"+str(values.item()*100))\n",
        "    positive.append((i, values.item()*100))\n",
        "\n",
        "print(positive)"
      ],
      "execution_count": 0,
      "outputs": [
        {
          "output_type": "stream",
          "text": [
            "Got 50000 samples\n"
          ],
          "name": "stdout"
        },
        {
          "output_type": "stream",
          "text": [
            "/usr/local/lib/python3.6/dist-packages/ipykernel_launcher.py:26: UserWarning: Implicit dimension choice for softmax has been deprecated. Change the call to include dim=X as an argument.\n"
          ],
          "name": "stderr"
        },
        {
          "output_type": "stream",
          "text": [
            "Image #125\tprobability: 70.38662433624268\n",
            "Image #230\tprobability: 29.68287467956543\n",
            "Image #1121\tprobability: 34.66236591339111\n",
            "Image #1204\tprobability: 80.14419674873352\n",
            "Image #1293\tprobability: 99.26235675811768\n",
            "Image #1734\tprobability: 22.51041829586029\n",
            "Image #4460\tprobability: 30.719149112701416\n",
            "Image #4914\tprobability: 22.840631008148193\n",
            "Image #5251\tprobability: 31.67714774608612\n",
            "Image #5763\tprobability: 10.272357612848282\n",
            "Image #6234\tprobability: 20.63409835100174\n",
            "Image #6729\tprobability: 77.3688018321991\n",
            "Image #6906\tprobability: 24.49241131544113\n",
            "Image #7640\tprobability: 20.38220465183258\n",
            "Image #8581\tprobability: 88.46515417098999\n",
            "Image #9537\tprobability: 35.77677011489868\n",
            "Image #9614\tprobability: 59.678393602371216\n",
            "Image #10247\tprobability: 50.593119859695435\n",
            "Image #11610\tprobability: 35.52859425544739\n",
            "Image #11749\tprobability: 75.22026896476746\n",
            "Image #12299\tprobability: 57.825249433517456\n",
            "Image #12488\tprobability: 98.24746251106262\n",
            "Image #13385\tprobability: 26.576286554336548\n",
            "Image #13627\tprobability: 41.33410155773163\n",
            "Image #13661\tprobability: 21.732445061206818\n",
            "Image #13734\tprobability: 39.57911729812622\n",
            "Image #14359\tprobability: 14.517764747142792\n",
            "Image #15384\tprobability: 83.67582559585571\n",
            "Image #15639\tprobability: 11.083117872476578\n",
            "Image #18307\tprobability: 8.994264155626297\n",
            "Image #19241\tprobability: 68.18674802780151\n",
            "Image #19474\tprobability: 89.1351580619812\n",
            "Image #19753\tprobability: 72.94465899467468\n",
            "Image #20060\tprobability: 69.57603096961975\n",
            "Image #20698\tprobability: 78.03838849067688\n",
            "Image #21335\tprobability: 56.468266248703\n",
            "Image #21461\tprobability: 77.93958783149719\n",
            "Image #22785\tprobability: 65.87823033332825\n",
            "Image #23355\tprobability: 35.305508971214294\n",
            "Image #25701\tprobability: 29.582718014717102\n",
            "Image #26628\tprobability: 43.83417367935181\n",
            "Image #26703\tprobability: 8.497815579175949\n",
            "Image #26822\tprobability: 37.64067590236664\n",
            "Image #27731\tprobability: 29.25107181072235\n",
            "Image #29598\tprobability: 98.43541383743286\n",
            "Image #29876\tprobability: 66.34024977684021\n",
            "Image #31332\tprobability: 34.71480906009674\n",
            "Image #31924\tprobability: 33.64042639732361\n",
            "Image #31969\tprobability: 76.82187557220459\n",
            "Image #32663\tprobability: 48.51921200752258\n",
            "Image #33350\tprobability: 98.14919829368591\n",
            "Image #35491\tprobability: 67.31398105621338\n",
            "Image #39049\tprobability: 64.29259181022644\n",
            "Image #39705\tprobability: 86.5737795829773\n",
            "Image #40235\tprobability: 35.74826121330261\n",
            "Image #40244\tprobability: 48.99843633174896\n",
            "Image #42084\tprobability: 53.020232915878296\n",
            "Image #42275\tprobability: 13.818688690662384\n",
            "Image #42591\tprobability: 52.02655792236328\n",
            "Image #42972\tprobability: 44.17412579059601\n",
            "Image #43095\tprobability: 71.31219506263733\n",
            "Image #44495\tprobability: 6.340372562408447\n",
            "Image #45326\tprobability: 23.5866978764534\n",
            "Image #46550\tprobability: 72.07267880439758\n",
            "Image #47259\tprobability: 26.392918825149536\n",
            "Image #48606\tprobability: 85.98803877830505\n",
            "Image #48816\tprobability: 49.71528351306915\n",
            "Image #48953\tprobability: 52.26907134056091\n",
            "Image #49117\tprobability: 18.790780007839203\n",
            "Image #49648\tprobability: 34.377798438072205\n",
            "Image #49709\tprobability: 56.61540627479553\n",
            "[(125, 70.38662433624268), (230, 29.68287467956543), (1121, 34.66236591339111), (1204, 80.14419674873352), (1293, 99.26235675811768), (1734, 22.51041829586029), (4460, 30.719149112701416), (4914, 22.840631008148193), (5251, 31.67714774608612), (5763, 10.272357612848282), (6234, 20.63409835100174), (6729, 77.3688018321991), (6906, 24.49241131544113), (7640, 20.38220465183258), (8581, 88.46515417098999), (9537, 35.77677011489868), (9614, 59.678393602371216), (10247, 50.593119859695435), (11610, 35.52859425544739), (11749, 75.22026896476746), (12299, 57.825249433517456), (12488, 98.24746251106262), (13385, 26.576286554336548), (13627, 41.33410155773163), (13661, 21.732445061206818), (13734, 39.57911729812622), (14359, 14.517764747142792), (15384, 83.67582559585571), (15639, 11.083117872476578), (18307, 8.994264155626297), (19241, 68.18674802780151), (19474, 89.1351580619812), (19753, 72.94465899467468), (20060, 69.57603096961975), (20698, 78.03838849067688), (21335, 56.468266248703), (21461, 77.93958783149719), (22785, 65.87823033332825), (23355, 35.305508971214294), (25701, 29.582718014717102), (26628, 43.83417367935181), (26703, 8.497815579175949), (26822, 37.64067590236664), (27731, 29.25107181072235), (29598, 98.43541383743286), (29876, 66.34024977684021), (31332, 34.71480906009674), (31924, 33.64042639732361), (31969, 76.82187557220459), (32663, 48.51921200752258), (33350, 98.14919829368591), (35491, 67.31398105621338), (39049, 64.29259181022644), (39705, 86.5737795829773), (40235, 35.74826121330261), (40244, 48.99843633174896), (42084, 53.020232915878296), (42275, 13.818688690662384), (42591, 52.02655792236328), (42972, 44.17412579059601), (43095, 71.31219506263733), (44495, 6.340372562408447), (45326, 23.5866978764534), (46550, 72.07267880439758), (47259, 26.392918825149536), (48606, 85.98803877830505), (48816, 49.71528351306915), (48953, 52.26907134056091), (49117, 18.790780007839203), (49648, 34.377798438072205), (49709, 56.61540627479553)]\n"
          ],
          "name": "stdout"
        }
      ]
    },
    {
      "cell_type": "code",
      "metadata": {
        "id": "qnRdiWzv6faH",
        "colab_type": "code",
        "outputId": "30d49bef-e769-49c5-fcf6-5af7212608ca",
        "colab": {
          "base_uri": "https://localhost:8080/",
          "height": 34
        }
      },
      "source": [
        "positive = [(125, 70.38662433624268), (230, 29.68287467956543), (1121, 34.66236591339111), (1204, 80.14419674873352), (1293, 99.26235675811768), (1734, 22.51041829586029), (4460, 30.719149112701416), (4914, 22.840631008148193), (5251, 31.67714774608612), (5763, 10.272357612848282), (6234, 20.63409835100174), (6729, 77.3688018321991), (6906, 24.49241131544113), (7640, 20.38220465183258), (8581, 88.46515417098999), (9537, 35.77677011489868), (9614, 59.678393602371216), (10247, 50.593119859695435), (11610, 35.52859425544739), (11749, 75.22026896476746), (12299, 57.825249433517456), (12488, 98.24746251106262), (13385, 26.576286554336548), (13627, 41.33410155773163), (13661, 21.732445061206818), (13734, 39.57911729812622), (14359, 14.517764747142792), (15384, 83.67582559585571), (15639, 11.083117872476578), (18307, 8.994264155626297), (19241, 68.18674802780151), (19474, 89.1351580619812), (19753, 72.94465899467468), (20060, 69.57603096961975), (20698, 78.03838849067688), (21335, 56.468266248703), (21461, 77.93958783149719), (22785, 65.87823033332825), (23355, 35.305508971214294), (25701, 29.582718014717102), (26628, 43.83417367935181), (26703, 8.497815579175949), (26822, 37.64067590236664), (27731, 29.25107181072235), (29598, 98.43541383743286), (29876, 66.34024977684021), (31332, 34.71480906009674), (31924, 33.64042639732361), (31969, 76.82187557220459), (32663, 48.51921200752258), (33350, 98.14919829368591), (35491, 67.31398105621338), (39049, 64.29259181022644), (39705, 86.5737795829773), (40235, 35.74826121330261), (40244, 48.99843633174896), (42084, 53.020232915878296), (42275, 13.818688690662384), (42591, 52.02655792236328), (42972, 44.17412579059601), (43095, 71.31219506263733), (44495, 6.340372562408447), (45326, 23.5866978764534), (46550, 72.07267880439758), (47259, 26.392918825149536), (48606, 85.98803877830505), (48816, 49.71528351306915), (48953, 52.26907134056091), (49117, 18.790780007839203), (49648, 34.377798438072205), (49709, 56.61540627479553)]\n",
        "print(len(positive))"
      ],
      "execution_count": 0,
      "outputs": [
        {
          "output_type": "stream",
          "text": [
            "71\n"
          ],
          "name": "stdout"
        }
      ]
    },
    {
      "cell_type": "markdown",
      "metadata": {
        "id": "nJ6MTdWviEZR",
        "colab_type": "text"
      },
      "source": [
        "# Implementation from paper"
      ]
    },
    {
      "cell_type": "code",
      "metadata": {
        "id": "oFnOzG8NLp45",
        "colab_type": "code",
        "outputId": "b4fc2d79-82c2-4606-ceb6-19a7cc7d4eec",
        "colab": {
          "base_uri": "https://localhost:8080/",
          "height": 35
        }
      },
      "source": [
        "import numpy as np\n",
        "\n",
        "PIXELS_COUNT = 5\n",
        "\n",
        "\n",
        "class Individual:\n",
        "\n",
        "    def __init__(self, code):\n",
        "        self.code = code\n",
        "        self.obj_fun_value = None\n",
        "\n",
        "    @staticmethod\n",
        "    def from_params(x, y, distortion):\n",
        "        code = np.zeros((PIXELS_COUNT, 5), dtype=float)\n",
        "        code[:, 0] = x\n",
        "        code[:, 1] = y\n",
        "        code[:, 2:5] = distortion\n",
        "        return Individual(code)\n",
        "\n",
        "    def get_mutant(self, population, f_param):\n",
        "        r1, r2, r3 = [ind.code for ind in np.random.choice(population, 3, replace=False)]\n",
        "        mutant_code = r1 + f_param * (r2 - r3)\n",
        "        return Individual(mutant_code)\n",
        "\n",
        "    def crossover_with(self, mutant, c_p, c_rgb):\n",
        "        crossover_result = np.zeros((PIXELS_COUNT, 5), dtype=float)\n",
        "        if np.random.rand() < c_p:\n",
        "            crossover_result[:, 0:2] = self.code[:, 0:2]\n",
        "        else:\n",
        "            crossover_result[:, 0:2] = mutant.code[:, 0:2]\n",
        "        if np.random.rand() < c_rgb:\n",
        "            crossover_result[:, 2:5] = self.code[:, 2:5]\n",
        "        else:\n",
        "            crossover_result[:, 2:5] = mutant.code[:, 2:5]\n",
        "        return Individual(crossover_result)\n",
        "\n",
        "    def _crossover(self, first, second, c_r):\n",
        "        return self._binomial_crossover(\n",
        "            first,\n",
        "            self._expotential_crossover(first, second),\n",
        "            c_r\n",
        "        )\n",
        "\n",
        "    def _expotential_crossover(self, first, second):\n",
        "        result = second\n",
        "        start = np.random.randint(0, PIXELS_COUNT)\n",
        "        end = np.random.randint(start, PIXELS_COUNT)\n",
        "        result[start: end + 1, :] = first[start: end + 1, :]\n",
        "        return result\n",
        "\n",
        "    def _binomial_crossover(self, first, second, c_r):\n",
        "        result = second\n",
        "        for i in range(PIXELS_COUNT):\n",
        "            if np.random.rand() < c_r:\n",
        "                result[i, :] = first[i, :]\n",
        "        return result\n",
        "    \n",
        "    def show_image(self, num_from_dataset):\n",
        "        import matplotlib.pyplot as plt\n",
        "        im = np.array(_str2img(dataset[\"data\"][num_from_dataset]), dtype='int32')\n",
        "        for i in range(self.code.shape[0]):\n",
        "            im[int(self.code[(i,0)]), int(self.code[(i,1)])] += np.int32(self.code[i,2:5])  \n",
        "        plt.title(idx2label[dataset[\"target\"][num_from_dataset]])\n",
        "        plt.imshow(im)\n",
        "        plt.show()\n",
        "        \n",
        "print(\"Individual loaded\")"
      ],
      "execution_count": 0,
      "outputs": [
        {
          "output_type": "stream",
          "text": [
            "Individual loaded\n"
          ],
          "name": "stdout"
        }
      ]
    },
    {
      "cell_type": "code",
      "metadata": {
        "id": "Pfz8CCY5jTBz",
        "colab_type": "code",
        "colab": {}
      },
      "source": [
        "import numpy as np\n",
        "from itertools import product\n",
        "#from individual import Individual\n",
        "\n",
        "PIXELS_COUNT = 5\n",
        "\n",
        "\n",
        "class Population:\n",
        "    \"\"\"\n",
        "    Class representing population of individuals\n",
        "\n",
        "    \"\"\"\n",
        "\n",
        "    def __init__(self, iteration, cardinality, image_size, c_p, c_rgb, f_param, individuals=None):\n",
        "        self.iteration = iteration\n",
        "        self.cardinality = cardinality\n",
        "        self.image_size = image_size\n",
        "        self.c_p = c_p\n",
        "        self.c_rgb = c_rgb\n",
        "        self.f_param = f_param\n",
        "\n",
        "        if individuals == None:\n",
        "            self.individuals = self._initialize_individuals(\n",
        "                cardinality, image_size)\n",
        "        else:\n",
        "            self.individuals = individuals\n",
        "\n",
        "    def _initialize_individuals(self, cardinality, image_size):\n",
        "        individuals = []\n",
        "        height, width = image_size\n",
        "        possible_positions = np.array(\n",
        "            list(product(range(height), range(width))))\n",
        "        positions = possible_positions[np.random.randint(0,\n",
        "                                                         height * width, cardinality * PIXELS_COUNT)]\n",
        "\n",
        "        for i in range(cardinality):\n",
        "            code = np.zeros((PIXELS_COUNT, 5))\n",
        "            code[:, 2:5] = np.random.normal(128, 127, (PIXELS_COUNT, 3))\n",
        "            code[:, 0:2] = positions[i * PIXELS_COUNT: i *\n",
        "                                     PIXELS_COUNT + PIXELS_COUNT]\n",
        "            individuals.append(self._fixed_individual(Individual(code)))\n",
        "            i += 1\n",
        "\n",
        "        return individuals\n",
        "\n",
        "    def generate_next(self, objective_function):\n",
        "        new_individuals = []\n",
        "        for i in range(self.cardinality):\n",
        "            parent = self.individuals[i]\n",
        "            mutant = parent.get_mutant(\n",
        "                self.individuals, self.f_param)\n",
        "            mutant = self._fixed_individual(mutant)\n",
        "            descendant = parent.crossover_with(\n",
        "                mutant, self.c_p, self.c_rgb)\n",
        "            descendant.obj_fun_value = objective_function(descendant)\n",
        "            \n",
        "            if parent.obj_fun_value == None:\n",
        "                parent.obj_fun_value = objective_function(parent)\n",
        "              \n",
        "            if descendant.obj_fun_value >= parent.obj_fun_value:\n",
        "                new_individuals.append(descendant)\n",
        "            else:\n",
        "                new_individuals.append(parent)\n",
        "            i += 1\n",
        "        return Population(self.iteration + 1, self.cardinality, self.image_size, self.c_p, self.c_rgb, self.f_param, new_individuals)\n",
        "      \n",
        "    def get_best_individual(self):\n",
        "      return self.individuals[np.argmax([ind.obj_fun_value for ind in self.individuals])]\n",
        "    \n",
        "    def _fixed_individual(self, individual):\n",
        "      height, width = self.image_size\n",
        "      new_code = np.zeros((PIXELS_COUNT, 5))\n",
        "      new_code[:,0] = np.floor(individual.code[:,0] % height)\n",
        "      new_code[:,1] = np.floor(individual.code[:,1] % width)\n",
        "      new_code[:,2:5] = individual.code[:,2:5] % 256\n",
        "      return Individual(new_code)"
      ],
      "execution_count": 0,
      "outputs": []
    },
    {
      "cell_type": "code",
      "metadata": {
        "id": "2JCQgBjeGrzb",
        "colab_type": "code",
        "outputId": "77ba4c47-8b58-4e04-b9f9-f3508e290504",
        "colab": {
          "base_uri": "https://localhost:8080/",
          "height": 35
        }
      },
      "source": [
        "import torch.nn as nn\n",
        "import numpy as np\n",
        "import cv2\n",
        "import torch\n",
        "\n",
        "\n",
        "#softmax layer to normalize output\n",
        "m = nn.Softmax()\n",
        "\n",
        "#mean and std of input normalization\n",
        "mean = [0.485, 0.456, 0.406]\n",
        "std = [0.229, 0.224, 0.225]\n",
        "\n",
        "#convert str to image\n",
        "def _str2img(str_b):\n",
        "    return cv2.imdecode(np.frombuffer(str_b, np.uint8), cv2.IMREAD_COLOR)\n",
        "\n",
        "def find_probabilities(individual, num_from_dataset):\n",
        "    im = np.array(_str2img(dataset[\"data\"][num_from_dataset]), dtype='float64')\n",
        "    for i in range(individual.code.shape[0]):\n",
        "        im[int(individual.code[(i,0)]), int(individual.code[(i,1)])] = individual.code[i,2:5]\n",
        "    im = torch.from_numpy(im).view(1, 3, 224, 224).to(device=device, dtype=torch.float)\n",
        "    im.div_(255.)\n",
        "    im[:, 0, :, :].sub_(mean[0]).div_(std[0])\n",
        "    im[:, 1, :, :].sub_(mean[1]).div_(std[1])\n",
        "    im[:, 2, :, :].sub_(mean[2]).div_(std[2])\n",
        "    output = net(im)\n",
        "    return m(output)\n",
        "  \n",
        "def find_best_class(individual, num_from_dataset):\n",
        "    output = find_probabilities(individual, num_from_dataset)\n",
        "    values, indices = torch.max(output, 1)\n",
        "    return values.item(), indices.item()\n",
        "  \n",
        "def find_second_best_class(individual, num_from_dataset):\n",
        "    output = find_probabilities(individual, num_from_dataset)\n",
        "    values, indices = torch.sort(output, 1, True)\n",
        "    return values[0][1].item(), indices[0][1].item()\n",
        "  \n",
        "def fitness_function(individual, num_from_dataset):\n",
        "    output = find_probabilities(individual, num_from_dataset)\n",
        "    return output.cpu().detach().numpy()[0, dataset[\"target\"][num_from_dataset]]\n",
        "  \n",
        "print(\"Fitness function loaded\")"
      ],
      "execution_count": 0,
      "outputs": [
        {
          "output_type": "stream",
          "text": [
            "Fitness function loaded\n"
          ],
          "name": "stdout"
        }
      ]
    },
    {
      "cell_type": "code",
      "metadata": {
        "id": "a_M07x5IeCwi",
        "colab_type": "code",
        "colab": {}
      },
      "source": [
        "def differential_evolution(iter_count, population_cardinality, image_size, num_from_dataset, c_p, c_rgb, f_param, obj_function):\n",
        "  population = Population(0, population_cardinality, image_size, c_p, c_rgb, f_param)\n",
        "  \n",
        "  for i in range(iter_count):\n",
        "    population = population.generate_next(obj_function)\n",
        "    \n",
        "  return population.get_best_individual()"
      ],
      "execution_count": 0,
      "outputs": []
    },
    {
      "cell_type": "code",
      "metadata": {
        "id": "CS4nHdu0d4Wg",
        "colab_type": "code",
        "outputId": "7de1fbbb-29e5-4351-fe7d-c38365241b9e",
        "colab": {
          "base_uri": "https://localhost:8080/",
          "height": 124
        }
      },
      "source": [
        "def calc_average_distortion(individual, num_from_dataset):\n",
        "  im = np.array(_str2img(dataset[\"data\"][num_from_dataset]), dtype='float64')\n",
        "  distortion = 0\n",
        "  n = individual.shape[0]\n",
        "  for i in range(n):\n",
        "    distortion += sum(abs(im[int(individual[i, 0]), int(individual[i, 1])] - individual[i, 2:5]))\n",
        "  return distortion / n\n",
        "\n",
        "\n",
        "def test_params(c_p, c_rgb, f_param):\n",
        "  success_count = 0\n",
        "  misclasified_probability = 0\n",
        "  distortion = 0\n",
        "  for num in [item[0] for item in sorted(positive, key=lambda tup: tup[1])]:\n",
        "    best_individual = differential_evolution(100, 20, (224, 224), num, c_p, c_rgb, f_param, lambda individual: 1 - fitness_function(individual, num))\n",
        "    probability, label_index = find_best_class(best_individual, num)\n",
        "    if dataset[\"target\"][num] != label_index:\n",
        "      success_count += 1\n",
        "      misclasified_probability += probability\n",
        "      distortion += calc_average_distortion(best_individual.code, num)\n",
        "  return success_count / len(positive), misclasified_probability / success_count, distortion / success_count\n",
        "\n",
        "\n",
        "for c_p in range(1,10, 2):\n",
        "  for c_rgb in range(1,10, 2):\n",
        "    for f_param in range(1,10, 2):\n",
        "      success_rate, confidence, average_distortion = test_params(c_p / 10, c_rgb / 10, f_param / 10)\n",
        "      print(c_p / 10, c_rgb /10, f_param / 10, success_rate, confidence, average_distortion)\n",
        "      \n",
        "  "
      ],
      "execution_count": 0,
      "outputs": [
        {
          "output_type": "stream",
          "text": [
            "/usr/local/lib/python3.6/dist-packages/ipykernel_launcher.py:28: UserWarning: Implicit dimension choice for softmax has been deprecated. Change the call to include dim=X as an argument.\n"
          ],
          "name": "stderr"
        },
        {
          "output_type": "stream",
          "text": [
            "0.1 0.9 0.1 0.1267605633802817 0.27624886275993454 333.4110609519519\n",
            "0.1 0.9 0.3 0.11267605633802817 0.2796528795734048 334.7674208603127\n",
            "0.1 0.9 0.5 0.07042253521126761 0.33598680049180984 338.9497603868469\n",
            "0.1 0.9 0.7 0.056338028169014086 0.3571000397205353 340.8385174572572\n",
            "0.1 0.9 0.9 0.09859154929577464 0.2201451967869486 310.75590326751353\n"
          ],
          "name": "stdout"
        }
      ]
    },
    {
      "cell_type": "markdown",
      "metadata": {
        "id": "tW5WcDtNhXXr",
        "colab_type": "text"
      },
      "source": [
        "# New implementation"
      ]
    },
    {
      "cell_type": "code",
      "metadata": {
        "id": "5ZhIigw9hWA3",
        "colab_type": "code",
        "outputId": "5e5090f4-da9a-43b1-b41e-fb42f8914f8e",
        "colab": {
          "base_uri": "https://localhost:8080/",
          "height": 34
        }
      },
      "source": [
        "import numpy as np\n",
        "import random\n",
        "\n",
        "PIXELS_COUNT = 25\n",
        "\n",
        "class Individual:\n",
        "\n",
        "    def __init__(self, code, num_from_dataset):\n",
        "        self.num_from_dataset = num_from_dataset\n",
        "        self.image = np.array(_str2img(dataset[\"data\"][num_from_dataset]), dtype='int32')\n",
        "        self.code = code\n",
        "        self.fitness = None\n",
        "        for (k,v) in code.items():\n",
        "            self.code[k] = (self.image[k]+self.code[k])%256 - self.image[k]\n",
        "        \n",
        "    @staticmethod\n",
        "    def from_params(x, y, d, distortion, num_from_dataset):\n",
        "        code = {}\n",
        "        code[(x, y, d)] = distortion\n",
        "        return Individual(code, num_from_dataset)\n",
        "    \n",
        "    def __add__(self, o):\n",
        "        result = dict(self.code)\n",
        "        for k in o.code.keys():\n",
        "            if k in result.keys():\n",
        "                result[k] += o.code[k]\n",
        "            else:\n",
        "                result[k] = o.code[k]\n",
        "        \n",
        "        return Individual(result, self.num_from_dataset)\n",
        "\n",
        "    def __sub__(self, o):\n",
        "        result = {}\n",
        "        result = dict(self.code)\n",
        "        for k in o.code.keys():\n",
        "            if k in result.keys():\n",
        "                result[k] -= o.code[k]\n",
        "            else:\n",
        "                result[k] = -o.code[k]\n",
        "        return Individual(result, self.num_from_dataset)\n",
        "\n",
        "    def __rmul__(self, o):\n",
        "        result = {}\n",
        "        for k in self.code.keys():\n",
        "            result[k] = o*self.code[k]\n",
        "        return Individual(result, self.num_from_dataset)\n",
        "    \n",
        "    def __mul__(self, o):\n",
        "        result = {}\n",
        "        for k in o.code.keys():\n",
        "            result[k] = self*o.code[k]\n",
        "        return Individual(result, self.num_from_dataset)\n",
        "    \n",
        "    def get_mutant(self, population, f_param):\n",
        "        r1, r2, r3 = np.random.choice(population, 3, replace=False)\n",
        "        mutant = r1 + f_param * (r2 - r3)\n",
        "        return mutant\n",
        "\n",
        "    def crossover_with(self, mutant, c_r):\n",
        "        result = {}\n",
        "        shuffled_keys = list(self.code.keys())\n",
        "        \n",
        "        shuffled_mutant_keys = list(mutant.code.keys())\n",
        "        random.shuffle(shuffled_mutant_keys)\n",
        "        \n",
        "        for _ in range(PIXELS_COUNT):\n",
        "            if c_r > np.random.rand():\n",
        "                \n",
        "                if shuffled_mutant_keys:\n",
        "                    new_key = shuffled_mutant_keys.pop()\n",
        "                    if new_key not in result.keys():\n",
        "                        result[new_key] = mutant.code[new_key]\n",
        "                    else:\n",
        "                        result[new_key] = mutant.code[new_key] + result[new_key]\n",
        "            else:\n",
        "                if shuffled_keys:\n",
        "                    new_key = shuffled_keys.pop()\n",
        "                    if new_key not in result.keys():\n",
        "                        result[new_key] = self.code[new_key]\n",
        "                    else:\n",
        "                        result[new_key] = self.code[new_key] + result[new_key]\n",
        "        return Individual(result, self.num_from_dataset)\n",
        "    \n",
        "    def show_image(self):\n",
        "        import matplotlib.pyplot as plt\n",
        "        im = self.image\n",
        "        plt.title(idx2label[dataset[\"target\"][self.num_from_dataset]])\n",
        "        plt.imshow(im)\n",
        "        plt.show()\n",
        "        \n",
        "    def show_output(self):\n",
        "        import matplotlib.pyplot as plt\n",
        "        im = np.array(self.image, dtype='float64')\n",
        "        for (k,v) in self.code.items():\n",
        "            self.code[k] = (self.image[k]+self.code[k])%256 - self.image[k]    \n",
        "        img = torch.from_numpy(im).view(1, 3, 224, 224).to(device=device, dtype=torch.float)\n",
        "        img.div_(255.)\n",
        "        img[:, 0, :, :].sub_(mean[0]).div_(std[0])\n",
        "        img[:, 1, :, :].sub_(mean[1]).div_(std[1])\n",
        "        img[:, 2, :, :].sub_(mean[2]).div_(std[2])\n",
        "        output = net(img)\n",
        "        output = m(output)\n",
        "        value, indice = torch.max(output, 1)\n",
        "        plt.title(idx2label[indice.item()])\n",
        "        plt.imshow(im.astype(int))\n",
        "        plt.show()\n",
        "        \n",
        "print(\"Individual loaded\")"
      ],
      "execution_count": 0,
      "outputs": [
        {
          "output_type": "stream",
          "text": [
            "Individual loaded\n"
          ],
          "name": "stdout"
        }
      ]
    },
    {
      "cell_type": "code",
      "metadata": {
        "id": "lhGDTaYGdktj",
        "colab_type": "code",
        "outputId": "989ccae9-5b2b-4cb6-d91e-a6470afcfb58",
        "colab": {
          "base_uri": "https://localhost:8080/",
          "height": 34
        }
      },
      "source": [
        "import numpy as np\n",
        "from itertools import product\n",
        "\n",
        "\n",
        "class Population:\n",
        "    \"\"\"\n",
        "    Class representing population of individuals\n",
        "\n",
        "    \"\"\"\n",
        "\n",
        "    def __init__(self, iteration, cardinality, image_size, c_r, f_param, num_from_dataset, individuals=None):\n",
        "        self.iteration = iteration\n",
        "        self.cardinality = cardinality\n",
        "        self.image_size = image_size\n",
        "        self.c_r = c_r\n",
        "        self.f_param = f_param\n",
        "        self.num_from_dataset = num_from_dataset\n",
        "\n",
        "        if individuals == None:\n",
        "            self.individuals = self._initialize_individuals(\n",
        "                cardinality, image_size, num_from_dataset)\n",
        "        else:\n",
        "            self.individuals = individuals\n",
        "\n",
        "    def _initialize_individuals(self, cardinality, image_size, num_from_dataset):\n",
        "        individuals = []\n",
        "        height, width = image_size\n",
        "        \n",
        "        for _ in range(cardinality-1):\n",
        "            code = {}\n",
        "            for _ in range(PIXELS_COUNT):\n",
        "                x = np.random.randint(width)\n",
        "                y = np.random.randint(height)\n",
        "                d = np.random.randint(3)\n",
        "                disortion = 15*np.random.randn()\n",
        "                code[(x, y, d)] = disortion\n",
        "            individuals.append(Individual(code, num_from_dataset))\n",
        "        individuals.append(Individual({}, num_from_dataset))\n",
        "        return individuals\n",
        "\n",
        "    def generate_next(self, objective_function):\n",
        "        new_individuals = []\n",
        "        for i in range(self.cardinality):\n",
        "            parent = self.individuals[i]\n",
        "            mutant = parent.get_mutant(\n",
        "                self.individuals, self.f_param)\n",
        "            #descendant = parent.crossover_with(\n",
        "            #    mutant, self.c_r)\n",
        "            descendant = mutant\n",
        "            descendant.fitness = objective_function(descendant)\n",
        "            \n",
        "            if parent.fitness == None:\n",
        "                parent.fitness = objective_function(parent)\n",
        "              \n",
        "            if descendant.fitness < parent.fitness:\n",
        "                new_individuals.append(descendant)\n",
        "            else:\n",
        "                new_individuals.append(parent)\n",
        "            i += 1\n",
        "        return Population(self.iteration + 1, self.cardinality, self.image_size, self.c_r, self.f_param, self.num_from_dataset, new_individuals)\n",
        "      \n",
        "    def get_best_individual(self):\n",
        "      return self.individuals[np.argmax([ind.fitness for ind in self.individuals])]\n",
        "    \n",
        "print(\"Population loaded\")"
      ],
      "execution_count": 0,
      "outputs": [
        {
          "output_type": "stream",
          "text": [
            "Population loaded\n"
          ],
          "name": "stdout"
        }
      ]
    },
    {
      "cell_type": "code",
      "metadata": {
        "id": "8afbjg__dngA",
        "colab_type": "code",
        "outputId": "d63fe4eb-bf3b-495e-9a4b-dcc2fd3efd18",
        "colab": {
          "base_uri": "https://localhost:8080/",
          "height": 34
        }
      },
      "source": [
        "import torch.nn as nn\n",
        "import numpy as np\n",
        "import cv2\n",
        "import torch\n",
        "\n",
        "\n",
        "#softmax layer to normalize output\n",
        "m = nn.Softmax()\n",
        "\n",
        "#mean and std of input normalization\n",
        "mean = [0.485, 0.456, 0.406]\n",
        "std = [0.229, 0.224, 0.225]\n",
        "\n",
        "#convert str to image\n",
        "def _str2img(str_b):\n",
        "    return cv2.imdecode(np.frombuffer(str_b, np.uint8), cv2.IMREAD_COLOR)\n",
        "\n",
        "\n",
        "def fitness_function(individual):\n",
        "    im = individual.image #np.array(_str2img(dataset[\"data\"][num_from_dataset]), dtype='float64')\n",
        "    for (k,v) in individual.code.items():\n",
        "        im[k] = im[k] + v          \n",
        "    im = torch.from_numpy(im).view(1, 3, 224, 224).to(device=device, dtype=torch.float)\n",
        "    im.div_(255.)\n",
        "    im[:, 0, :, :].sub_(mean[0]).div_(std[0])\n",
        "    im[:, 1, :, :].sub_(mean[1]).div_(std[1])\n",
        "    im[:, 2, :, :].sub_(mean[2]).div_(std[2])\n",
        "    output = net(im)\n",
        "    output = m(output)\n",
        "    return output.cpu().detach().numpy()[0, dataset[\"target\"][individual.num_from_dataset]]\n",
        "  \n",
        "print(\"Fitness function loaded\")"
      ],
      "execution_count": 0,
      "outputs": [
        {
          "output_type": "stream",
          "text": [
            "Fitness function loaded\n"
          ],
          "name": "stdout"
        }
      ]
    },
    {
      "cell_type": "code",
      "metadata": {
        "id": "9ZFEX_0edqBd",
        "colab_type": "code",
        "outputId": "ea596e3c-b78a-4877-ffb7-82a1b0655759",
        "colab": {
          "base_uri": "https://localhost:8080/",
          "height": 34
        }
      },
      "source": [
        "import csv\n",
        "import time\n",
        "\n",
        "every = 100\n",
        "\n",
        "def differential_evolution(iter_count, population_cardinality, image_size, num_from_dataset, c_r, f_param):\n",
        "  population = Population(0, population_cardinality, image_size, c_r, f_param, num_from_dataset)\n",
        "  objective_function = lambda individual: fitness_function(individual)\n",
        "  \n",
        "  writer = csv.writer(open(\"OWN1\",'w+'))\n",
        "  t_zero = time.time()\n",
        "  for i in range(iter_count):\n",
        "    \n",
        "    offspring = population.generate_next(objective_function)\n",
        "    writer.writerow([i, population.get_best_individual().fitness])\n",
        "    if i%every==0:\n",
        "        print(\"Iteration: \" + str(i) +\"\\tbest fitness value: \"+str(population.get_best_individual().fitness) + \"\\tremaining time \"+str((time.time()-t_zero)*(iter_count/(i+1)-1)/60)+\" min\")\n",
        "        #print(population.get_best_individual().code)\n",
        "    population = offspring\n",
        "    \n",
        "  return population.get_best_individual()\n",
        "\n",
        "print(\"Differential evolution algorithm loaded\")"
      ],
      "execution_count": 0,
      "outputs": [
        {
          "output_type": "stream",
          "text": [
            "Differential evolution algorithm loaded\n"
          ],
          "name": "stdout"
        }
      ]
    },
    {
      "cell_type": "code",
      "metadata": {
        "id": "HT5H_LzZdsh6",
        "colab_type": "code",
        "outputId": "34d471a5-be46-4127-9a63-2331f7452e1b",
        "colab": {
          "base_uri": "https://localhost:8080/",
          "height": 513
        }
      },
      "source": [
        "#image_num = 8411 # >90%\n",
        "image_num = 18307\t \n",
        "\n",
        "\n",
        "\n",
        "fooled = differential_evolution(10000, 50, (224,224), image_num, 0.9, 0.5)\n",
        "fooled.show_image()\n",
        "fooled.show_output()\n",
        "print(fooled.code)"
      ],
      "execution_count": 0,
      "outputs": [
        {
          "output_type": "stream",
          "text": [
            "/usr/local/lib/python3.6/dist-packages/ipykernel_launcher.py:29: UserWarning: Implicit dimension choice for softmax has been deprecated. Change the call to include dim=X as an argument.\n"
          ],
          "name": "stderr"
        },
        {
          "output_type": "stream",
          "text": [
            "Iteration: 0\tbest fitness value: 0.09212413\tremaining time 108.61665526628494 min\n",
            "Iteration: 100\tbest fitness value: 0.058484435\tremaining time 161.2183360656496 min\n",
            "Iteration: 200\tbest fitness value: 0.05318091\tremaining time 161.48351525758235 min\n",
            "Iteration: 300\tbest fitness value: 0.05000746\tremaining time 161.16841895425836 min\n",
            "Iteration: 400\tbest fitness value: 0.048260976\tremaining time 159.83822690192008 min\n",
            "Iteration: 500\tbest fitness value: 0.046882488\tremaining time 158.3332632941718 min\n",
            "Iteration: 600\tbest fitness value: 0.046306614\tremaining time 156.70666702061445 min\n",
            "Iteration: 700\tbest fitness value: 0.045574415\tremaining time 154.89477081422405 min\n",
            "Iteration: 800\tbest fitness value: 0.045031432\tremaining time 153.13659401689526 min\n",
            "Iteration: 900\tbest fitness value: 0.044386692\tremaining time 151.46467800083488 min\n",
            "Iteration: 1000\tbest fitness value: 0.04378202\tremaining time 149.79264697907092 min\n",
            "Iteration: 1100\tbest fitness value: 0.043277528\tremaining time 148.10828640155998 min\n",
            "Iteration: 1200\tbest fitness value: 0.04306872\tremaining time 146.36144210828732 min\n",
            "Iteration: 1300\tbest fitness value: 0.042920403\tremaining time 144.6757180579039 min\n",
            "Iteration: 1400\tbest fitness value: 0.042871542\tremaining time 143.02951100821613 min\n",
            "Iteration: 1500\tbest fitness value: 0.042858187\tremaining time 141.3491533827575 min\n",
            "Iteration: 1600\tbest fitness value: 0.04284775\tremaining time 139.6276107945096 min\n",
            "Iteration: 1700\tbest fitness value: 0.042846855\tremaining time 137.88498000405056 min\n",
            "Iteration: 1800\tbest fitness value: 0.042846765\tremaining time 136.19910333553068 min\n",
            "Iteration: 1900\tbest fitness value: 0.042846765\tremaining time 134.65839752315867 min\n",
            "Iteration: 2000\tbest fitness value: 0.042846765\tremaining time 133.0297809317333 min\n",
            "Iteration: 2100\tbest fitness value: 0.042846765\tremaining time 131.35150278719306 min\n",
            "Iteration: 2200\tbest fitness value: 0.042846765\tremaining time 129.6448923240859 min\n",
            "Iteration: 2300\tbest fitness value: 0.042846765\tremaining time 127.97505844854608 min\n",
            "Iteration: 2400\tbest fitness value: 0.042846765\tremaining time 126.33416831042558 min\n",
            "Iteration: 2500\tbest fitness value: 0.042846765\tremaining time 124.6708960859359 min\n",
            "Iteration: 2600\tbest fitness value: 0.042846765\tremaining time 122.95106535725573 min\n"
          ],
          "name": "stdout"
        }
      ]
    },
    {
      "cell_type": "markdown",
      "metadata": {
        "id": "XIHsScFjLZFq",
        "colab_type": "text"
      },
      "source": [
        "Sources: [Dataset](https://github.com/aaron-xichen/pytorch-playground) [Neural network model](https://pytorch.org/docs/stable/torchvision/models.html)"
      ]
    }
  ]
}