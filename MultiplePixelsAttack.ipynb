{
  "nbformat": 4,
  "nbformat_minor": 0,
  "metadata": {
    "colab": {
      "name": "WAE.ipynb",
      "version": "0.3.2",
      "provenance": [],
      "collapsed_sections": [],
      "include_colab_link": true
    },
    "kernelspec": {
      "name": "python3",
      "display_name": "Python 3"
    },
    "accelerator": "GPU"
  },
  "cells": [
    {
      "cell_type": "markdown",
      "metadata": {
        "id": "view-in-github",
        "colab_type": "text"
      },
      "source": [
        "<a href=\"https://colab.research.google.com/github/pkonowrocki/Multiple-pixels-attack/blob/master/MultiplePixelsAttack.ipynb\" target=\"_parent\"><img src=\"https://colab.research.google.com/assets/colab-badge.svg\" alt=\"Open In Colab\"/></a>"
      ]
    },
    {
      "cell_type": "code",
      "metadata": {
        "id": "Ji5cZulgxfcO",
        "colab_type": "code",
        "colab": {}
      },
      "source": [
        "file_id = '1Iz4CTYuTT-_eS1HrIU410VkeomP5dl0R'\n",
        "\n",
        "#authentication\n",
        "from google.colab import auth\n",
        "auth.authenticate_user()\n",
        "\n",
        "#build Gdrive service\n",
        "from googleapiclient.discovery import build\n",
        "drive_service = build('drive', 'v3')\n",
        "\n",
        "try:\n",
        "  import io\n",
        "  from googleapiclient.http import MediaIoBaseDownload\n",
        "\n",
        "  request = drive_service.files().get_media(fileId=file_id)\n",
        "  downloaded = io.BytesIO()\n",
        "  downloader = MediaIoBaseDownload(downloaded, request)\n",
        "  done = False\n",
        "  while done is False:\n",
        "    _, done = downloader.next_chunk()\n",
        "  downloaded.seek(0)\n",
        "  print('Downloaded file')\n",
        "  import pickle\n",
        "  dataset = pickle.load(downloaded)\n",
        "  assert type(dataset)!=\"<class 'dict'>\", \"Something went wrong with downloading file\"\n",
        "  print(\"Dataset ready\")\n",
        "\n",
        "except:\n",
        "  print(\"Something wrong with file\")\n",
        "  print(\"Trying to download the file and upload it to a Gdrive\")\n",
        "  #downloading dataset\n",
        "  !curl http://ml.cs.tsinghua.edu.cn/~chenxi/dataset/val224_compressed.pkl --output val224_compressed.pkl\n",
        "    \n",
        "  #mounting Gdrive \n",
        "  from google.colab import drive\n",
        "  drive.mount('/content/gdrive')\n",
        "  #upload dataset to Gdrive\n",
        "  from googleapiclient.http import MediaFileUpload\n",
        "  file_metadata = {\n",
        "    'name': 'val224_compressed'\n",
        "  }\n",
        "  media = MediaFileUpload('val224_compressed.pkl',\n",
        "                        resumable=True)\n",
        "  created = drive_service.files().create(body=file_metadata,\n",
        "                                       media_body=media,\n",
        "                                       fields='id').execute()\n",
        "  print('File ID: {}'.format(created.get('id')))"
      ],
      "execution_count": 0,
      "outputs": []
    },
    {
      "cell_type": "code",
      "metadata": {
        "id": "Qs4Pd2nOruyK",
        "colab_type": "code",
        "outputId": "b4f372b9-fcf2-432f-94bf-bcdc933a1cd4",
        "colab": {
          "base_uri": "https://localhost:8080/",
          "height": 139
        }
      },
      "source": [
        "#install required files\n",
        "!pip3 install torch torchvision"
      ],
      "execution_count": 0,
      "outputs": [
        {
          "output_type": "stream",
          "text": [
            "Requirement already satisfied: torch in /usr/local/lib/python3.6/dist-packages (1.1.0)\n",
            "Requirement already satisfied: torchvision in /usr/local/lib/python3.6/dist-packages (0.2.2.post3)\n",
            "Requirement already satisfied: numpy in /usr/local/lib/python3.6/dist-packages (from torch) (1.16.3)\n",
            "Requirement already satisfied: six in /usr/local/lib/python3.6/dist-packages (from torchvision) (1.12.0)\n",
            "Requirement already satisfied: pillow>=4.1.1 in /usr/local/lib/python3.6/dist-packages (from torchvision) (4.3.0)\n",
            "Requirement already satisfied: olefile in /usr/local/lib/python3.6/dist-packages (from pillow>=4.1.1->torchvision) (0.46)\n"
          ],
          "name": "stdout"
        }
      ]
    },
    {
      "cell_type": "code",
      "metadata": {
        "id": "6ocvZTUjIKVh",
        "colab_type": "code",
        "colab": {
          "base_uri": "https://localhost:8080/",
          "height": 105
        },
        "outputId": "136d4aa8-bd4b-4ee8-ac09-43819d4ab9e0"
      },
      "source": [
        "import torch\n",
        "device = torch.device(\"cuda:0\" if torch.cuda.is_available() else \"cpu\") \n",
        "print(device)\n",
        "\n",
        "import torchvision.models as models\n",
        "net = models.alexnet(pretrained=True).to(device)\n",
        "net.eval()\n",
        "\n",
        "print(\"Network ready\")"
      ],
      "execution_count": 48,
      "outputs": [
        {
          "output_type": "stream",
          "text": [
            "cuda:0\n"
          ],
          "name": "stdout"
        },
        {
          "output_type": "stream",
          "text": [
            "Downloading: \"https://download.pytorch.org/models/alexnet-owt-4df8aa71.pth\" to /root/.cache/torch/checkpoints/alexnet-owt-4df8aa71.pth\n",
            "100%|██████████| 244418560/244418560 [00:02<00:00, 95502587.41it/s]\n"
          ],
          "name": "stderr"
        },
        {
          "output_type": "stream",
          "text": [
            "Network ready\n"
          ],
          "name": "stdout"
        }
      ]
    },
    {
      "cell_type": "code",
      "metadata": {
        "id": "SUsnhX6asCP0",
        "colab_type": "code",
        "outputId": "8d0c7e61-9731-47c7-ea7e-0b300be84fec",
        "colab": {
          "base_uri": "https://localhost:8080/",
          "height": 1329
        }
      },
      "source": [
        "#find positive examples\n",
        "import numpy as np\n",
        "import cv2\n",
        "import torch\n",
        "import torch.nn\n",
        "\n",
        "def str2img(str_b):\n",
        "    return cv2.imdecode(np.fromstring(str_b, np.uint8), cv2.IMREAD_COLOR)\n",
        "\n",
        "\n",
        "mean = [0.485, 0.456, 0.406]\n",
        "std = [0.229, 0.224, 0.225]\n",
        "\n",
        "print(\"Got \"+str(len(dataset[\"target\"])) +\" samples\")\n",
        "m = nn.Softmax()\n",
        "positive = []\n",
        "\n",
        "for i in range(len(dataset[\"target\"])):\n",
        "  image = str2img(dataset[\"data\"][i])\n",
        "  image = torch.from_numpy(image).view(1, 3, 224, 224).to(device=device, dtype=torch.float)\n",
        "  image.div_(255.)\n",
        "  image[:, 0, :, :].sub_(mean[0]).div_(std[0])\n",
        "  image[:, 1, :, :].sub_(mean[1]).div_(std[1])\n",
        "  image[:, 2, :, :].sub_(mean[2]).div_(std[2])\n",
        "  label = dataset[\"target\"][i]\n",
        "  output = net(image)\n",
        "  output = m(output)\n",
        "  values, indices = torch.max(output, 1)\n",
        "  if(label==indices.item()):\n",
        "    print(\"Image #\"+str(i)+\"\\tprobability: \"+str(values.item()*100))\n",
        "    positive.append((i, values.item()*100))\n",
        "\n",
        "print(positive)"
      ],
      "execution_count": 49,
      "outputs": [
        {
          "output_type": "stream",
          "text": [
            "Got 50000 samples\n"
          ],
          "name": "stdout"
        },
        {
          "output_type": "stream",
          "text": [
            "/usr/local/lib/python3.6/dist-packages/ipykernel_launcher.py:7: DeprecationWarning: The binary mode of fromstring is deprecated, as it behaves surprisingly on unicode inputs. Use frombuffer instead\n",
            "  import sys\n",
            "/usr/local/lib/python3.6/dist-packages/ipykernel_launcher.py:26: UserWarning: Implicit dimension choice for softmax has been deprecated. Change the call to include dim=X as an argument.\n"
          ],
          "name": "stderr"
        },
        {
          "output_type": "stream",
          "text": [
            "Image #125\tprobability: 70.38662433624268\n",
            "Image #230\tprobability: 29.68287467956543\n",
            "Image #1121\tprobability: 34.66236591339111\n",
            "Image #1204\tprobability: 80.14419674873352\n",
            "Image #1293\tprobability: 99.26235675811768\n",
            "Image #1734\tprobability: 22.51041829586029\n",
            "Image #4460\tprobability: 30.719149112701416\n",
            "Image #4914\tprobability: 22.840631008148193\n",
            "Image #5251\tprobability: 31.67714774608612\n",
            "Image #5763\tprobability: 10.272357612848282\n",
            "Image #6234\tprobability: 20.63409835100174\n",
            "Image #6729\tprobability: 77.3688018321991\n",
            "Image #6906\tprobability: 24.49241131544113\n",
            "Image #7640\tprobability: 20.38220465183258\n",
            "Image #8581\tprobability: 88.46515417098999\n",
            "Image #9537\tprobability: 35.77677011489868\n",
            "Image #9614\tprobability: 59.678393602371216\n",
            "Image #10247\tprobability: 50.593119859695435\n",
            "Image #11610\tprobability: 35.52859425544739\n",
            "Image #11749\tprobability: 75.22026896476746\n",
            "Image #12299\tprobability: 57.825249433517456\n",
            "Image #12488\tprobability: 98.24746251106262\n",
            "Image #13385\tprobability: 26.576286554336548\n",
            "Image #13627\tprobability: 41.33410155773163\n",
            "Image #13661\tprobability: 21.732445061206818\n",
            "Image #13734\tprobability: 39.57911729812622\n",
            "Image #14359\tprobability: 14.517764747142792\n",
            "Image #15384\tprobability: 83.67582559585571\n",
            "Image #15639\tprobability: 11.083117872476578\n",
            "Image #18307\tprobability: 8.994264155626297\n",
            "Image #19241\tprobability: 68.18674802780151\n",
            "Image #19474\tprobability: 89.1351580619812\n",
            "Image #19753\tprobability: 72.94465899467468\n",
            "Image #20060\tprobability: 69.57603096961975\n",
            "Image #20698\tprobability: 78.03838849067688\n",
            "Image #21335\tprobability: 56.468266248703\n",
            "Image #21461\tprobability: 77.93958783149719\n",
            "Image #22785\tprobability: 65.87823033332825\n",
            "Image #23355\tprobability: 35.305508971214294\n",
            "Image #25701\tprobability: 29.582718014717102\n",
            "Image #26628\tprobability: 43.83417367935181\n",
            "Image #26703\tprobability: 8.497815579175949\n",
            "Image #26822\tprobability: 37.64067590236664\n",
            "Image #27731\tprobability: 29.25107181072235\n",
            "Image #29598\tprobability: 98.43541383743286\n",
            "Image #29876\tprobability: 66.34024977684021\n",
            "Image #31332\tprobability: 34.71480906009674\n",
            "Image #31924\tprobability: 33.64042639732361\n",
            "Image #31969\tprobability: 76.82187557220459\n",
            "Image #32663\tprobability: 48.51921200752258\n",
            "Image #33350\tprobability: 98.14919829368591\n",
            "Image #35491\tprobability: 67.31398105621338\n",
            "Image #39049\tprobability: 64.29259181022644\n",
            "Image #39705\tprobability: 86.5737795829773\n",
            "Image #40235\tprobability: 35.74826121330261\n",
            "Image #40244\tprobability: 48.99843633174896\n",
            "Image #42084\tprobability: 53.020232915878296\n",
            "Image #42275\tprobability: 13.818688690662384\n",
            "Image #42591\tprobability: 52.02655792236328\n",
            "Image #42972\tprobability: 44.17412579059601\n",
            "Image #43095\tprobability: 71.31219506263733\n",
            "Image #44495\tprobability: 6.340372562408447\n",
            "Image #45326\tprobability: 23.5866978764534\n",
            "Image #46550\tprobability: 72.07267880439758\n",
            "Image #47259\tprobability: 26.392918825149536\n",
            "Image #48606\tprobability: 85.98803877830505\n",
            "Image #48816\tprobability: 49.71528351306915\n",
            "Image #48953\tprobability: 52.26907134056091\n",
            "Image #49117\tprobability: 18.790780007839203\n",
            "Image #49648\tprobability: 34.377798438072205\n",
            "Image #49709\tprobability: 56.61540627479553\n",
            "[(125, 70.38662433624268), (230, 29.68287467956543), (1121, 34.66236591339111), (1204, 80.14419674873352), (1293, 99.26235675811768), (1734, 22.51041829586029), (4460, 30.719149112701416), (4914, 22.840631008148193), (5251, 31.67714774608612), (5763, 10.272357612848282), (6234, 20.63409835100174), (6729, 77.3688018321991), (6906, 24.49241131544113), (7640, 20.38220465183258), (8581, 88.46515417098999), (9537, 35.77677011489868), (9614, 59.678393602371216), (10247, 50.593119859695435), (11610, 35.52859425544739), (11749, 75.22026896476746), (12299, 57.825249433517456), (12488, 98.24746251106262), (13385, 26.576286554336548), (13627, 41.33410155773163), (13661, 21.732445061206818), (13734, 39.57911729812622), (14359, 14.517764747142792), (15384, 83.67582559585571), (15639, 11.083117872476578), (18307, 8.994264155626297), (19241, 68.18674802780151), (19474, 89.1351580619812), (19753, 72.94465899467468), (20060, 69.57603096961975), (20698, 78.03838849067688), (21335, 56.468266248703), (21461, 77.93958783149719), (22785, 65.87823033332825), (23355, 35.305508971214294), (25701, 29.582718014717102), (26628, 43.83417367935181), (26703, 8.497815579175949), (26822, 37.64067590236664), (27731, 29.25107181072235), (29598, 98.43541383743286), (29876, 66.34024977684021), (31332, 34.71480906009674), (31924, 33.64042639732361), (31969, 76.82187557220459), (32663, 48.51921200752258), (33350, 98.14919829368591), (35491, 67.31398105621338), (39049, 64.29259181022644), (39705, 86.5737795829773), (40235, 35.74826121330261), (40244, 48.99843633174896), (42084, 53.020232915878296), (42275, 13.818688690662384), (42591, 52.02655792236328), (42972, 44.17412579059601), (43095, 71.31219506263733), (44495, 6.340372562408447), (45326, 23.5866978764534), (46550, 72.07267880439758), (47259, 26.392918825149536), (48606, 85.98803877830505), (48816, 49.71528351306915), (48953, 52.26907134056091), (49117, 18.790780007839203), (49648, 34.377798438072205), (49709, 56.61540627479553)]\n"
          ],
          "name": "stdout"
        }
      ]
    },
    {
      "cell_type": "code",
      "metadata": {
        "id": "fkBdAk22Lu80",
        "colab_type": "code",
        "colab": {
          "base_uri": "https://localhost:8080/",
          "height": 34
        },
        "outputId": "bcdcbd9d-9fac-4a83-8d99-25c773d42c28"
      },
      "source": [
        "positive = [(125, 70.38662433624268), (230, 29.68287467956543), (1121, 34.66236591339111), (1204, 80.14419674873352), (1293, 99.26235675811768), (1734, 22.51041829586029), (4460, 30.719149112701416), (4914, 22.840631008148193), (5251, 31.67714774608612), (5763, 10.272357612848282), (6234, 20.63409835100174), (6729, 77.3688018321991), (6906, 24.49241131544113), (7640, 20.38220465183258), (8581, 88.46515417098999), (9537, 35.77677011489868), (9614, 59.678393602371216), (10247, 50.593119859695435), (11610, 35.52859425544739), (11749, 75.22026896476746), (12299, 57.825249433517456), (12488, 98.24746251106262), (13385, 26.576286554336548), (13627, 41.33410155773163), (13661, 21.732445061206818), (13734, 39.57911729812622), (14359, 14.517764747142792), (15384, 83.67582559585571), (15639, 11.083117872476578), (18307, 8.994264155626297), (19241, 68.18674802780151), (19474, 89.1351580619812), (19753, 72.94465899467468), (20060, 69.57603096961975), (20698, 78.03838849067688), (21335, 56.468266248703), (21461, 77.93958783149719), (22785, 65.87823033332825), (23355, 35.305508971214294), (25701, 29.582718014717102), (26628, 43.83417367935181), (26703, 8.497815579175949), (26822, 37.64067590236664), (27731, 29.25107181072235), (29598, 98.43541383743286), (29876, 66.34024977684021), (31332, 34.71480906009674), (31924, 33.64042639732361), (31969, 76.82187557220459), (32663, 48.51921200752258), (33350, 98.14919829368591), (35491, 67.31398105621338), (39049, 64.29259181022644), (39705, 86.5737795829773), (40235, 35.74826121330261), (40244, 48.99843633174896), (42084, 53.020232915878296), (42275, 13.818688690662384), (42591, 52.02655792236328), (42972, 44.17412579059601), (43095, 71.31219506263733), (44495, 6.340372562408447), (45326, 23.5866978764534), (46550, 72.07267880439758), (47259, 26.392918825149536), (48606, 85.98803877830505), (48816, 49.71528351306915), (48953, 52.26907134056091), (49117, 18.790780007839203), (49648, 34.377798438072205), (49709, 56.61540627479553)]"
      ],
      "execution_count": 50,
      "outputs": [
        {
          "output_type": "stream",
          "text": [
            "71\n"
          ],
          "name": "stdout"
        }
      ]
    },
    {
      "cell_type": "markdown",
      "metadata": {
        "id": "XIHsScFjLZFq",
        "colab_type": "text"
      },
      "source": [
        "Sources: [Dataset](https://github.com/aaron-xichen/pytorch-playground) [Neural network model](https://pytorch.org/docs/stable/torchvision/models.html)"
      ]
    }
  ]
}